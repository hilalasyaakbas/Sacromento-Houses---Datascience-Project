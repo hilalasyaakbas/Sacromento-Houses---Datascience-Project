{
 "cells": [
  {
   "cell_type": "code",
   "execution_count": 58,
   "id": "f12e58d0-8240-4953-af27-4b7140954b3b",
   "metadata": {},
   "outputs": [],
   "source": [
    "import pandas as pd\n",
    "import numpy as np\n",
    "from haversine import haversine, Unit\n",
    "from sklearn.model_selection import train_test_split\n",
    "from sklearn.metrics import mean_absolute_error, mean_squared_error\n",
    "import matplotlib.pyplot as plt\n",
    "from sklearn.neighbors import KNeighborsRegressor\n",
    "from sklearn.linear_model import LinearRegression\n",
    "from sklearn.model_selection import GridSearchCV"
   ]
  },
  {
   "cell_type": "code",
   "execution_count": 60,
   "id": "6eddd56c-b993-4f41-ac21-4b08c6eed261",
   "metadata": {},
   "outputs": [
    {
     "name": "stdout",
     "output_type": "stream",
     "text": [
      "             street        city    zip state  beds  baths  sq__ft  \\\n",
      "0      3526 HIGH ST  SACRAMENTO  95838    CA     2      1     836   \n",
      "1       51 OMAHA CT  SACRAMENTO  95823    CA     3      1    1167   \n",
      "2    2796 BRANCH ST  SACRAMENTO  95815    CA     2      1     796   \n",
      "3  2805 JANETTE WAY  SACRAMENTO  95815    CA     2      1     852   \n",
      "4   6001 MCMAHON DR  SACRAMENTO  95824    CA     2      1     797   \n",
      "\n",
      "          type                     sale_date  price   latitude   longitude  \n",
      "0  Residential  Wed May 21 00:00:00 EDT 2008  59222  38.631913 -121.434879  \n",
      "1  Residential  Wed May 21 00:00:00 EDT 2008  68212  38.478902 -121.431028  \n",
      "2  Residential  Wed May 21 00:00:00 EDT 2008  68880  38.618305 -121.443839  \n",
      "3  Residential  Wed May 21 00:00:00 EDT 2008  69307  38.616835 -121.439146  \n",
      "4  Residential  Wed May 21 00:00:00 EDT 2008  81900  38.519470 -121.435768  \n",
      "<class 'pandas.core.frame.DataFrame'>\n",
      "RangeIndex: 985 entries, 0 to 984\n",
      "Data columns (total 12 columns):\n",
      " #   Column     Non-Null Count  Dtype  \n",
      "---  ------     --------------  -----  \n",
      " 0   street     985 non-null    object \n",
      " 1   city       985 non-null    object \n",
      " 2   zip        985 non-null    int64  \n",
      " 3   state      985 non-null    object \n",
      " 4   beds       985 non-null    int64  \n",
      " 5   baths      985 non-null    int64  \n",
      " 6   sq__ft     985 non-null    int64  \n",
      " 7   type       985 non-null    object \n",
      " 8   sale_date  985 non-null    object \n",
      " 9   price      985 non-null    int64  \n",
      " 10  latitude   985 non-null    float64\n",
      " 11  longitude  985 non-null    float64\n",
      "dtypes: float64(2), int64(5), object(5)\n",
      "memory usage: 92.5+ KB\n",
      "None\n"
     ]
    }
   ],
   "source": [
    "import pandas as pd\n",
    "\n",
    "# Load the dataset\n",
    "file_path = \"C:\\\\Users\\\\hilal\\\\Downloads\\\\sacramento.csv\"\n",
    "data = pd.read_csv(file_path)\n",
    "\n",
    "# Display the first few rows and dataset information\n",
    "print(data.head())\n",
    "print(data.info())"
   ]
  },
  {
   "cell_type": "code",
   "execution_count": 80,
   "id": "c706ea67-de2e-4e71-9618-6cafe1f21730",
   "metadata": {},
   "outputs": [
    {
     "data": {
      "text/plain": [
       "RangeIndex(start=0, stop=985, step=1)"
      ]
     },
     "execution_count": 80,
     "metadata": {},
     "output_type": "execute_result"
    }
   ],
   "source": [
    "data.index"
   ]
  },
  {
   "cell_type": "code",
   "execution_count": 82,
   "id": "7a3fdc67-592e-467b-9bb8-fc57d0bf0b51",
   "metadata": {},
   "outputs": [
    {
     "data": {
      "text/plain": [
       "Index(['street', 'city', 'zip', 'state', 'beds', 'baths', 'sq__ft', 'type',\n",
       "       'sale_date', 'price', 'latitude', 'longitude'],\n",
       "      dtype='object')"
      ]
     },
     "execution_count": 82,
     "metadata": {},
     "output_type": "execute_result"
    }
   ],
   "source": [
    "data.columns"
   ]
  },
  {
   "cell_type": "code",
   "execution_count": 64,
   "id": "b65dbda9-ef73-404e-bda9-770a82fbcb40",
   "metadata": {},
   "outputs": [
    {
     "data": {
      "text/html": [
       "<div>\n",
       "<style scoped>\n",
       "    .dataframe tbody tr th:only-of-type {\n",
       "        vertical-align: middle;\n",
       "    }\n",
       "\n",
       "    .dataframe tbody tr th {\n",
       "        vertical-align: top;\n",
       "    }\n",
       "\n",
       "    .dataframe thead th {\n",
       "        text-align: right;\n",
       "    }\n",
       "</style>\n",
       "<table border=\"1\" class=\"dataframe\">\n",
       "  <thead>\n",
       "    <tr style=\"text-align: right;\">\n",
       "      <th></th>\n",
       "      <th>street</th>\n",
       "      <th>city</th>\n",
       "      <th>zip</th>\n",
       "      <th>state</th>\n",
       "      <th>beds</th>\n",
       "      <th>baths</th>\n",
       "      <th>sq__ft</th>\n",
       "      <th>type</th>\n",
       "      <th>sale_date</th>\n",
       "      <th>price</th>\n",
       "      <th>latitude</th>\n",
       "      <th>longitude</th>\n",
       "    </tr>\n",
       "  </thead>\n",
       "  <tbody>\n",
       "    <tr>\n",
       "      <th>0</th>\n",
       "      <td>False</td>\n",
       "      <td>False</td>\n",
       "      <td>False</td>\n",
       "      <td>False</td>\n",
       "      <td>False</td>\n",
       "      <td>False</td>\n",
       "      <td>False</td>\n",
       "      <td>False</td>\n",
       "      <td>False</td>\n",
       "      <td>False</td>\n",
       "      <td>False</td>\n",
       "      <td>False</td>\n",
       "    </tr>\n",
       "    <tr>\n",
       "      <th>1</th>\n",
       "      <td>False</td>\n",
       "      <td>False</td>\n",
       "      <td>False</td>\n",
       "      <td>False</td>\n",
       "      <td>False</td>\n",
       "      <td>False</td>\n",
       "      <td>False</td>\n",
       "      <td>False</td>\n",
       "      <td>False</td>\n",
       "      <td>False</td>\n",
       "      <td>False</td>\n",
       "      <td>False</td>\n",
       "    </tr>\n",
       "    <tr>\n",
       "      <th>2</th>\n",
       "      <td>False</td>\n",
       "      <td>False</td>\n",
       "      <td>False</td>\n",
       "      <td>False</td>\n",
       "      <td>False</td>\n",
       "      <td>False</td>\n",
       "      <td>False</td>\n",
       "      <td>False</td>\n",
       "      <td>False</td>\n",
       "      <td>False</td>\n",
       "      <td>False</td>\n",
       "      <td>False</td>\n",
       "    </tr>\n",
       "    <tr>\n",
       "      <th>3</th>\n",
       "      <td>False</td>\n",
       "      <td>False</td>\n",
       "      <td>False</td>\n",
       "      <td>False</td>\n",
       "      <td>False</td>\n",
       "      <td>False</td>\n",
       "      <td>False</td>\n",
       "      <td>False</td>\n",
       "      <td>False</td>\n",
       "      <td>False</td>\n",
       "      <td>False</td>\n",
       "      <td>False</td>\n",
       "    </tr>\n",
       "    <tr>\n",
       "      <th>4</th>\n",
       "      <td>False</td>\n",
       "      <td>False</td>\n",
       "      <td>False</td>\n",
       "      <td>False</td>\n",
       "      <td>False</td>\n",
       "      <td>False</td>\n",
       "      <td>False</td>\n",
       "      <td>False</td>\n",
       "      <td>False</td>\n",
       "      <td>False</td>\n",
       "      <td>False</td>\n",
       "      <td>False</td>\n",
       "    </tr>\n",
       "    <tr>\n",
       "      <th>...</th>\n",
       "      <td>...</td>\n",
       "      <td>...</td>\n",
       "      <td>...</td>\n",
       "      <td>...</td>\n",
       "      <td>...</td>\n",
       "      <td>...</td>\n",
       "      <td>...</td>\n",
       "      <td>...</td>\n",
       "      <td>...</td>\n",
       "      <td>...</td>\n",
       "      <td>...</td>\n",
       "      <td>...</td>\n",
       "    </tr>\n",
       "    <tr>\n",
       "      <th>980</th>\n",
       "      <td>False</td>\n",
       "      <td>False</td>\n",
       "      <td>False</td>\n",
       "      <td>False</td>\n",
       "      <td>False</td>\n",
       "      <td>False</td>\n",
       "      <td>False</td>\n",
       "      <td>False</td>\n",
       "      <td>False</td>\n",
       "      <td>False</td>\n",
       "      <td>False</td>\n",
       "      <td>False</td>\n",
       "    </tr>\n",
       "    <tr>\n",
       "      <th>981</th>\n",
       "      <td>False</td>\n",
       "      <td>False</td>\n",
       "      <td>False</td>\n",
       "      <td>False</td>\n",
       "      <td>False</td>\n",
       "      <td>False</td>\n",
       "      <td>False</td>\n",
       "      <td>False</td>\n",
       "      <td>False</td>\n",
       "      <td>False</td>\n",
       "      <td>False</td>\n",
       "      <td>False</td>\n",
       "    </tr>\n",
       "    <tr>\n",
       "      <th>982</th>\n",
       "      <td>False</td>\n",
       "      <td>False</td>\n",
       "      <td>False</td>\n",
       "      <td>False</td>\n",
       "      <td>False</td>\n",
       "      <td>False</td>\n",
       "      <td>False</td>\n",
       "      <td>False</td>\n",
       "      <td>False</td>\n",
       "      <td>False</td>\n",
       "      <td>False</td>\n",
       "      <td>False</td>\n",
       "    </tr>\n",
       "    <tr>\n",
       "      <th>983</th>\n",
       "      <td>False</td>\n",
       "      <td>False</td>\n",
       "      <td>False</td>\n",
       "      <td>False</td>\n",
       "      <td>False</td>\n",
       "      <td>False</td>\n",
       "      <td>False</td>\n",
       "      <td>False</td>\n",
       "      <td>False</td>\n",
       "      <td>False</td>\n",
       "      <td>False</td>\n",
       "      <td>False</td>\n",
       "    </tr>\n",
       "    <tr>\n",
       "      <th>984</th>\n",
       "      <td>False</td>\n",
       "      <td>False</td>\n",
       "      <td>False</td>\n",
       "      <td>False</td>\n",
       "      <td>False</td>\n",
       "      <td>False</td>\n",
       "      <td>False</td>\n",
       "      <td>False</td>\n",
       "      <td>False</td>\n",
       "      <td>False</td>\n",
       "      <td>False</td>\n",
       "      <td>False</td>\n",
       "    </tr>\n",
       "  </tbody>\n",
       "</table>\n",
       "<p>985 rows × 12 columns</p>\n",
       "</div>"
      ],
      "text/plain": [
       "     street   city    zip  state   beds  baths  sq__ft   type  sale_date  \\\n",
       "0     False  False  False  False  False  False   False  False      False   \n",
       "1     False  False  False  False  False  False   False  False      False   \n",
       "2     False  False  False  False  False  False   False  False      False   \n",
       "3     False  False  False  False  False  False   False  False      False   \n",
       "4     False  False  False  False  False  False   False  False      False   \n",
       "..      ...    ...    ...    ...    ...    ...     ...    ...        ...   \n",
       "980   False  False  False  False  False  False   False  False      False   \n",
       "981   False  False  False  False  False  False   False  False      False   \n",
       "982   False  False  False  False  False  False   False  False      False   \n",
       "983   False  False  False  False  False  False   False  False      False   \n",
       "984   False  False  False  False  False  False   False  False      False   \n",
       "\n",
       "     price  latitude  longitude  \n",
       "0    False     False      False  \n",
       "1    False     False      False  \n",
       "2    False     False      False  \n",
       "3    False     False      False  \n",
       "4    False     False      False  \n",
       "..     ...       ...        ...  \n",
       "980  False     False      False  \n",
       "981  False     False      False  \n",
       "982  False     False      False  \n",
       "983  False     False      False  \n",
       "984  False     False      False  \n",
       "\n",
       "[985 rows x 12 columns]"
      ]
     },
     "execution_count": 64,
     "metadata": {},
     "output_type": "execute_result"
    }
   ],
   "source": [
    "data.isnull()"
   ]
  },
  {
   "cell_type": "code",
   "execution_count": 74,
   "id": "4bf72d10-5970-4d8c-9e11-0dfb64158a1d",
   "metadata": {},
   "outputs": [
    {
     "data": {
      "text/plain": [
       "street       0\n",
       "city         0\n",
       "zip          0\n",
       "state        0\n",
       "beds         0\n",
       "baths        0\n",
       "sq__ft       0\n",
       "type         0\n",
       "sale_date    0\n",
       "price        0\n",
       "latitude     0\n",
       "longitude    0\n",
       "dtype: int64"
      ]
     },
     "execution_count": 74,
     "metadata": {},
     "output_type": "execute_result"
    }
   ],
   "source": [
    "data.isnull().sum()"
   ]
  },
  {
   "cell_type": "code",
   "execution_count": 76,
   "id": "8da5dae2-b445-457b-bc64-7390c2fcfa69",
   "metadata": {},
   "outputs": [
    {
     "name": "stdout",
     "output_type": "stream",
     "text": [
      "[[ 0.         17.01736543  1.70160188 ... 17.66763449 24.11837412\n",
      "  31.28320983]\n",
      " [17.01736543  0.         15.54091223 ... 29.71362129  7.47945567\n",
      "  36.5744056 ]\n",
      " [ 1.70160188 15.54091223  0.         ... 19.10556801 22.74545318\n",
      "  32.21953717]\n",
      " ...\n",
      " [17.66763449 29.71362129 19.10556801 ...  0.         34.67633526\n",
      "  16.79370402]\n",
      " [24.11837412  7.47945567 22.74545318 ... 34.67633526  0.\n",
      "  38.52026705]\n",
      " [31.28320983 36.5744056  32.21953717 ... 16.79370402 38.52026705\n",
      "   0.        ]]\n"
     ]
    }
   ],
   "source": [
    "# Create a function to calculate the distance matrix\n",
    "def calculate_distance_matrix(latitudes, longitudes):\n",
    "    n = len(latitudes)\n",
    "    distance_matrix = np.zeros((n, n))\n",
    "    for i in range(n):\n",
    "        for j in range(n):\n",
    "            if i != j:\n",
    "                loc1 = (latitudes[i], longitudes[i])\n",
    "                loc2 = (latitudes[j], longitudes[j])\n",
    "                distance_matrix[i, j] = haversine(loc1, loc2)\n",
    "    return distance_matrix\n",
    "\n",
    "# Extract latitude and longitude columns\n",
    "latitudes = data['latitude'].values\n",
    "longitudes = data['longitude'].values\n",
    "\n",
    "# Calculate the distance matrix\n",
    "distance_matrix = calculate_distance_matrix(latitudes, longitudes)\n",
    "print(distance_matrix)"
   ]
  },
  {
   "cell_type": "code",
   "execution_count": 84,
   "id": "8b357e91-a4cf-4671-aaf8-0917d40244bc",
   "metadata": {},
   "outputs": [],
   "source": [
    "# Define features and target variable\n",
    "X = data[['latitude', 'longitude', 'beds', 'baths', 'sq__ft']]\n",
    "y = data['price']\n",
    "\n",
    "# Split into train and test sets\n",
    "X_train, X_test, y_train, y_test = train_test_split(X, y, test_size=0.2, random_state=42)\n"
   ]
  },
  {
   "cell_type": "code",
   "execution_count": 86,
   "id": "d6a3cedc-d365-48c2-9433-63308fee8f16",
   "metadata": {},
   "outputs": [],
   "source": [
    "def knn_predict(test_lat, test_lon, train_lat, train_lon, train_prices, N):\n",
    "    distances = [haversine((test_lat, test_lon), (train_lat[i], train_lon[i])) for i in range(len(train_lat))]\n",
    "    nearest_indices = np.argsort(distances)[:N]\n",
    "    nearest_prices = train_prices[nearest_indices]\n",
    "    return np.mean(nearest_prices)\n",
    "\n",
    "# Predict prices for all test houses\n",
    "predictions = []\n",
    "for i in range(len(X_test)):\n",
    "    pred = knn_predict(X_test.iloc[i]['latitude'], X_test.iloc[i]['longitude'], \n",
    "                       X_train['latitude'].values, X_train['longitude'].values, \n",
    "                       y_train.values, N=5)\n",
    "    predictions.append(pred)"
   ]
  },
  {
   "cell_type": "code",
   "execution_count": 88,
   "id": "0598aab2-3792-4de1-9aeb-a6b1f02d6b74",
   "metadata": {},
   "outputs": [
    {
     "name": "stdout",
     "output_type": "stream",
     "text": [
      "MAE: 68046.70456852792\n",
      "RMSE: 102540.1669338406\n"
     ]
    }
   ],
   "source": [
    "# Calculate MAE and RMSE\n",
    "mae = mean_absolute_error(y_test, predictions)\n",
    "rmse = np.sqrt(mean_squared_error(y_test, predictions))\n",
    "\n",
    "print(f\"MAE: {mae}\")\n",
    "print(f\"RMSE: {rmse}\")"
   ]
  },
  {
   "cell_type": "code",
   "execution_count": 90,
   "id": "9a35eeac-44fc-4370-b738-f4c5a35ae1cf",
   "metadata": {},
   "outputs": [
    {
     "data": {
      "image/png": "[encoded data removed]",
      "text/plain": [
       "<Figure size 1000x600 with 1 Axes>"
      ]
     },
     "metadata": {},
     "output_type": "display_data"
    }
   ],
   "source": [
    "n_values = range(1, 21)\n",
    "mae_values = []\n",
    "rmse_values = []\n",
    "\n",
    "for N in n_values:\n",
    "    predictions = []\n",
    "    for i in range(len(X_test)):\n",
    "        pred = knn_predict(X_test.iloc[i]['latitude'], X_test.iloc[i]['longitude'], \n",
    "                           X_train['latitude'].values, X_train['longitude'].values, \n",
    "                           y_train.values, N)\n",
    "        predictions.append(pred)\n",
    "    mae_values.append(mean_absolute_error(y_test, predictions))\n",
    "    rmse_values.append(np.sqrt(mean_squared_error(y_test, predictions)))\n",
    "\n",
    "# Plot MAE and RMSE against N\n",
    "plt.figure(figsize=(10, 6))\n",
    "plt.plot(n_values, mae_values, label='MAE')\n",
    "plt.plot(n_values, rmse_values, label='RMSE')\n",
    "plt.xlabel('Number of Neighbors (N)')\n",
    "plt.ylabel('Error')\n",
    "plt.legend()\n",
    "plt.show()\n"
   ]
  },
  {
   "cell_type": "code",
   "execution_count": 94,
   "id": "92a23cc2-54b1-4148-84d9-59e97ab7fea0",
   "metadata": {},
   "outputs": [
    {
     "name": "stdout",
     "output_type": "stream",
     "text": [
      "Univariate MAE: 93125.71776649747, RMSE: 130110.32631487965\n",
      "Multivariate MAE: 77014.52182741117, RMSE: 113782.02663265188\n"
     ]
    }
   ],
   "source": [
    "# Univariate model\n",
    "knn_uni = KNeighborsRegressor()\n",
    "knn_uni.fit(X_train[['sq__ft']], y_train)\n",
    "predictions_uni = knn_uni.predict(X_test[['sq__ft']])\n",
    "\n",
    "# Multivariate model\n",
    "knn_multi = KNeighborsRegressor()\n",
    "knn_multi.fit(X_train, y_train)\n",
    "predictions_multi = knn_multi.predict(X_test)\n",
    "\n",
    "# Calculate MAE and RMSE\n",
    "mae_uni = mean_absolute_error(y_test, predictions_uni)\n",
    "rmse_uni = np.sqrt(mean_squared_error(y_test, predictions_uni))\n",
    "\n",
    "mae_multi = mean_absolute_error(y_test, predictions_multi)\n",
    "rmse_multi = np.sqrt(mean_squared_error(y_test, predictions_multi))\n",
    "\n",
    "print(f\"Univariate MAE: {mae_uni}, RMSE: {rmse_uni}\")\n",
    "print(f\"Multivariate MAE: {mae_multi}, RMSE: {rmse_multi}\")"
   ]
  },
  {
   "cell_type": "code",
   "execution_count": 96,
   "id": "4fbf115c-628e-4c96-b114-a67029631da4",
   "metadata": {},
   "outputs": [
    {
     "name": "stdout",
     "output_type": "stream",
     "text": [
      "Linear Regression MAE: 101404.1324384577, RMSE: 135164.08380448655\n"
     ]
    }
   ],
   "source": [
    "lr = LinearRegression()\n",
    "lr.fit(X_train, y_train)\n",
    "predictions_lr = lr.predict(X_test)\n",
    "\n",
    "# Calculate MAE and RMSE\n",
    "mae_lr = mean_absolute_error(y_test, predictions_lr)\n",
    "rmse_lr = np.sqrt(mean_squared_error(y_test, predictions_lr))\n",
    "\n",
    "print(f\"Linear Regression MAE: {mae_lr}, RMSE: {rmse_lr}\")"
   ]
  },
  {
   "cell_type": "code",
   "execution_count": 98,
   "id": "e6f1ba59-56ac-4bb0-9bc9-c0272d4025e2",
   "metadata": {},
   "outputs": [
    {
     "name": "stdout",
     "output_type": "stream",
     "text": [
      "Custom KNN MAE: 68046.70456852792, RMSE: 102540.1669338406\n",
      "Univariate KNN MAE: 93125.71776649747, RMSE: 130110.32631487965\n",
      "Multivariate KNN MAE: 77014.52182741117, RMSE: 113782.02663265188\n",
      "Linear Regression MAE: 101404.1324384577, RMSE: 135164.08380448655\n"
     ]
    }
   ],
   "source": [
    "print(f\"Custom KNN MAE: {mae}, RMSE: {rmse}\")\n",
    "print(f\"Univariate KNN MAE: {mae_uni}, RMSE: {rmse_uni}\")\n",
    "print(f\"Multivariate KNN MAE: {mae_multi}, RMSE: {rmse_multi}\")\n",
    "print(f\"Linear Regression MAE: {mae_lr}, RMSE: {rmse_lr}\")"
   ]
  },
  {
   "cell_type": "code",
   "execution_count": null,
   "id": "23cf51ca-3cfc-4147-b423-cea38fccfb80",
   "metadata": {},
   "outputs": [],
   "source": []
  }
 ],
 "metadata": {
  "kernelspec": {
   "display_name": "Python 3 (ipykernel)",
   "language": "python",
   "name": "python3"
  },
  "language_info": {
   "codemirror_mode": {
    "name": "ipython",
    "version": 3
   },
   "file_extension": ".py",
   "mimetype": "text/x-python",
   "name": "python",
   "nbconvert_exporter": "python",
   "pygments_lexer": "ipython3",
   "version": "3.12.4"
  }
 },
 "nbformat": 4,
 "nbformat_minor": 5
}
